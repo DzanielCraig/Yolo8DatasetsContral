{
 "cells": [
  {
   "cell_type": "code",
   "execution_count": null,
   "metadata": {},
   "outputs": [],
   "source": [
    "#%pip install --upgrade os"
   ]
  },
  {
   "cell_type": "code",
   "execution_count": 12,
   "metadata": {},
   "outputs": [],
   "source": [
    "import os\n",
    "file_in_path=input(\"Input the path where lables exist:\")\n",
    "file_ot_path=input(\"Input the path where new lables folder will exist:\")\n",
    "lableSeri=input(\"Input the number of the lable that you want to remove:\")\n",
    "\n",
    "labels=os.listdir(file_in_path)\n",
    "for label in labels:\n",
    "    with open(os.path.join(file_in_path,label),'r') as fr:\n",
    "        with open(os.path.join(file_ot_path,label),'w') as fw:\n",
    "            for line in fr.readlines():\n",
    "                if line[:len(lableSeri)]!=lableSeri:\n",
    "                    fw.write(line)"
   ]
  }
 ],
 "metadata": {
  "kernelspec": {
   "display_name": "Python 3",
   "language": "python",
   "name": "python3"
  },
  "language_info": {
   "codemirror_mode": {
    "name": "ipython",
    "version": 3
   },
   "file_extension": ".py",
   "mimetype": "text/x-python",
   "name": "python",
   "nbconvert_exporter": "python",
   "pygments_lexer": "ipython3",
   "version": "3.9.13"
  },
  "orig_nbformat": 4
 },
 "nbformat": 4,
 "nbformat_minor": 2
}
